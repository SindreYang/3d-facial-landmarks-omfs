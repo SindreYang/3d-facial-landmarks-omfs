{
 "cells": [
  {
   "cell_type": "code",
   "execution_count": 1,
   "id": "39c2c233",
   "metadata": {},
   "outputs": [],
   "source": [
    "import numpy as np\n",
    "import pptk\n",
    "import potpourri3d as pp3d\n",
    "import csv\n",
    "import glob\n",
    "import os\n",
    "from utils import eucl_dist\n",
    "from pathlib import Path"
   ]
  },
  {
   "cell_type": "code",
   "execution_count": 8,
   "id": "a7c13816",
   "metadata": {},
   "outputs": [],
   "source": [
    "# overlay pred and gt from hmap_per_class\n",
    "\n",
    "file_data_path='/Users/carotenuto/Master Radboud/MscProj/preds_pcl_all_c256_l10/preds/vis/pred_pt_01513.txt'\n",
    "pcl= np.loadtxt(file_data_path,delimiter=',')\n",
    "col1 = pcl[:,3:]\n",
    "file_data_path2='/Users/carotenuto/Master Radboud/MscProj/preds_pcl_all_c256_l10/gt_vis/gt_pt_01513.txt'\n",
    "pcl2= np.loadtxt(file_data_path2,delimiter=',')\n",
    "col2 = pcl2[:,3:]"
   ]
  },
  {
   "cell_type": "code",
   "execution_count": 9,
   "id": "7b5c6d55",
   "metadata": {},
   "outputs": [],
   "source": [
    "col = np.maximum(col1, col2)"
   ]
  },
  {
   "cell_type": "code",
   "execution_count": 10,
   "id": "360a79c5",
   "metadata": {},
   "outputs": [],
   "source": [
    "#for i in range(len(col)):\n",
    "#    if col[i,0] == 1 and col[i,1] == 1:\n",
    "#        col[i,0] = 0.0"
   ]
  },
  {
   "cell_type": "code",
   "execution_count": 11,
   "id": "271e8df2",
   "metadata": {
    "pycharm": {
     "name": "#%%\n"
    }
   },
   "outputs": [],
   "source": [
    "v = pptk.viewer(pcl[:,:3], col, show_axis=False)\n",
    "v.set(point_size=0.5, show_axis=False, show_info=True)"
   ]
  },
  {
   "cell_type": "code",
   "execution_count": null,
   "id": "e759d570",
   "metadata": {
    "pycharm": {
     "name": "#%%\n",
     "is_executing": true
    }
   },
   "outputs": [],
   "source": [
    "# Visualize prediction against actual ground truth from ldmks.pkl\n",
    "ldmks = np.load('/Users/carotenuto/Master Radboud/MscProj/manual_results/subjects_196_labelled/ldmks.pkl',\n",
    "                allow_pickle=True)  # shape (samples, landmarks + 1, 3)\n",
    "folder_num = '160'\n",
    "for i in range(ldmks.shape[0]):\n",
    "    if int(ldmks[i, 0, 0]) == int(folder_num):\n",
    "        ldmks_idx = i\n",
    "        break\n",
    "ldmks_per_file = ldmks[ldmks_idx, 1:, :]  # shape (landmarks, 3)\n",
    "\n",
    "file_data_path='/Users/carotenuto/Master Radboud/MscProj/manual_results/pcl_196_30k/preds/vis/pred_pt_00160_.txt'\n",
    "pcl= np.loadtxt(file_data_path,delimiter=',')\n",
    "col1 = pcl[:,3:]\n",
    "pcl = pcl[:,:3]\n",
    "\n",
    "LANDMARK_INDICES = [8, 27, 30, 31, 33, 35, 36, 39, 42, 45, 60, 64]\n",
    "for i in range(len(ldmks_per_file)):\n",
    "    if i in LANDMARK_INDICES:\n",
    "        pcl = np.append(pcl, [ldmks_per_file[i]], axis=0)\n",
    "\n",
    "        col1 = np.append(col1, [[0,1,0]], axis=0)\n",
    "\n",
    "v = pptk.viewer(pcl, col1, show_axis=False)\n",
    "v.set(point_size=0.5, show_axis=False, show_info=True)"
   ]
  },
  {
   "cell_type": "code",
   "execution_count": 15,
   "id": "c92a8826",
   "metadata": {},
   "outputs": [],
   "source": [
    "file_data_path='/Users/carotenuto/Master Radboud/MscProj/preds_pcl_all_c256_l10/preds/vis/pred_01513.txt'\n",
    "pcl= np.loadtxt(file_data_path,delimiter=',')\n",
    "col1 = pcl[:,3:]\n",
    "file_data_path2='/Users/carotenuto/Master Radboud/MscProj/preds_pcl_all_c256_l10/gt_vis/gt_01513.txt'\n",
    "pcl2= np.loadtxt(file_data_path2,delimiter=',')\n",
    "col2 = pcl2[:,3:]"
   ]
  },
  {
   "cell_type": "code",
   "execution_count": 7,
   "id": "761b18e4",
   "metadata": {
    "pycharm": {
     "is_executing": true
    }
   },
   "outputs": [],
   "source": [
    "col = np.zeros((col1.shape[0], col1.shape[1]))\n",
    "for i in range(len(col)):\n",
    "    col[i,2] = col1[i,1]\n",
    "\n",
    "v = pptk.viewer(pcl[:,:3], col1, show_axis=False)\n",
    "v.set(point_size=0.5, show_axis=False, show_info=True)"
   ]
  },
  {
   "cell_type": "code",
   "execution_count": null,
   "id": "54109bb0",
   "metadata": {},
   "outputs": [],
   "source": []
  },
  {
   "cell_type": "code",
   "execution_count": 8,
   "id": "e603a37d",
   "metadata": {
    "pycharm": {
     "name": "#%%\n"
    }
   },
   "outputs": [
    {
     "ename": "FileNotFoundError",
     "evalue": "[Errno 2] No such file or directory: '/Users/carotenuto/Master Radboud/MscProj/manual_labels/headspace0-101_ownlabels/00091/ldmks.csv'",
     "output_type": "error",
     "traceback": [
      "\u001B[0;31m---------------------------------------------------------------------------\u001B[0m",
      "\u001B[0;31mFileNotFoundError\u001B[0m                         Traceback (most recent call last)",
      "\u001B[0;32m<ipython-input-8-6a2d25540ea0>\u001B[0m in \u001B[0;36m<module>\u001B[0;34m\u001B[0m\n\u001B[1;32m      8\u001B[0m \u001B[0;34m\u001B[0m\u001B[0m\n\u001B[1;32m      9\u001B[0m \u001B[0mrows\u001B[0m \u001B[0;34m=\u001B[0m \u001B[0;34m[\u001B[0m\u001B[0;34m]\u001B[0m\u001B[0;34m\u001B[0m\u001B[0;34m\u001B[0m\u001B[0m\n\u001B[0;32m---> 10\u001B[0;31m \u001B[0;32mwith\u001B[0m \u001B[0mopen\u001B[0m\u001B[0;34m(\u001B[0m\u001B[0mos\u001B[0m\u001B[0;34m.\u001B[0m\u001B[0mpath\u001B[0m\u001B[0;34m.\u001B[0m\u001B[0mjoin\u001B[0m\u001B[0;34m(\u001B[0m\u001B[0mrootdir\u001B[0m\u001B[0;34m,\u001B[0m \u001B[0mfolder_number\u001B[0m\u001B[0;34m,\u001B[0m \u001B[0;34m'ldmks.csv'\u001B[0m\u001B[0;34m)\u001B[0m\u001B[0;34m,\u001B[0m \u001B[0;34m'r'\u001B[0m\u001B[0;34m)\u001B[0m \u001B[0;32mas\u001B[0m \u001B[0mf\u001B[0m\u001B[0;34m:\u001B[0m\u001B[0;34m\u001B[0m\u001B[0;34m\u001B[0m\u001B[0m\n\u001B[0m\u001B[1;32m     11\u001B[0m     \u001B[0mcsvreader\u001B[0m \u001B[0;34m=\u001B[0m \u001B[0mcsv\u001B[0m\u001B[0;34m.\u001B[0m\u001B[0mreader\u001B[0m\u001B[0;34m(\u001B[0m\u001B[0mf\u001B[0m\u001B[0;34m)\u001B[0m\u001B[0;34m\u001B[0m\u001B[0;34m\u001B[0m\u001B[0m\n\u001B[1;32m     12\u001B[0m     \u001B[0;32mfor\u001B[0m \u001B[0mrow\u001B[0m \u001B[0;32min\u001B[0m \u001B[0mcsvreader\u001B[0m\u001B[0;34m:\u001B[0m\u001B[0;34m\u001B[0m\u001B[0;34m\u001B[0m\u001B[0m\n",
      "\u001B[0;31mFileNotFoundError\u001B[0m: [Errno 2] No such file or directory: '/Users/carotenuto/Master Radboud/MscProj/manual_labels/headspace0-101_ownlabels/00091/ldmks.csv'"
     ]
    }
   ],
   "source": [
    "# Visualize Headspace labels against own manual labels\n",
    "\n",
    "folder_number = '00091'\n",
    "rootdir = '/Users/carotenuto/Master Radboud/MscProj/manual_labels/headspace0-101_ownlabels'\n",
    "for filepath in glob.iglob(os.path.join(rootdir, folder_number, '*.obj')):\n",
    "    verts, _ = pp3d.read_mesh(filepath)\n",
    "\n",
    "\n",
    "rows = []\n",
    "with open(os.path.join(rootdir, folder_number, 'ldmks.csv'), 'r') as f:\n",
    "    csvreader = csv.reader(f)\n",
    "    for row in csvreader:\n",
    "        rows.append(row)\n",
    "\n",
    "ldmks = rows[7:19]\n",
    "ldmks_own = [row[1:4] for row in ldmks]\n",
    "\n",
    "# only keep selected landmarks\n",
    "LANDMARK_INDICES = [8, 27, 30, 31, 33, 35, 36, 39, 42, 45, 60, 64]\n",
    "for filepath in glob.iglob(os.path.join(rootdir, folder_number, 'ldmks13*.txt')):\n",
    "    ldmks_hs = np.loadtxt(filepath)\n",
    "ldmks_hs = ldmks_hs.astype(int)\n",
    "verts_vis = np.concatenate((verts, ldmks_own))\n",
    "\n",
    "#c_verts = np.full(len(verts), False, dtype=bool)\n",
    "c_mask = np.full(len(verts_vis), False, dtype=bool)\n",
    "ldmks_hs = ldmks_hs[LANDMARK_INDICES]\n",
    "c_mask[ldmks_hs-1] = True\n",
    "\n",
    "print(np.unique(c_mask, return_counts=True))\n",
    "\n",
    "#c_mask = verts_vis[ldmks_hs == True]\n",
    "c = np.zeros((len(verts_vis), 3))\n",
    "c[c_mask] = [1, 1, 0] # yellow, headspace labels\n",
    "\n",
    "\n",
    "#c_ldmks_own = np.full(len(ldmks), True, dtype=bool)\n",
    "#c_ldmks_hs = np.full(len(ldmks_per_file), True, dtype=bool)\n",
    "#c_mask = np.concatenate((c_verts, c_ldmks, c_ldmks_hs))\n",
    "\n",
    " # green, own labels\n",
    "\n",
    "c[len(c)-len(ldmks_own):] = [1, 0, 1] # pink, own labels\n",
    "\n",
    "v = pptk.viewer(verts_vis, c, show_axis=False)\n",
    "v.set(point_size=0.3, show_axis=False, show_info=True, bg_color=[1,1,1,0])"
   ]
  },
  {
   "cell_type": "code",
   "execution_count": 4,
   "id": "59976cf4",
   "metadata": {
    "pycharm": {
     "name": "#%%\n"
    }
   },
   "outputs": [],
   "source": [
    "file_data_path='/Users/carotenuto/Master Radboud/MscProj/subjects_1-10_copy/pcl/00001/130925161618.txt'\n",
    "pcl= np.loadtxt(file_data_path,delimiter=',')\n",
    "verts = pcl[:,:3]\n",
    "col = pcl[:,3:]\n",
    "v = pptk.viewer(verts, col, show_axis=False)\n",
    "v.set(point_size=1.4, show_axis=False, show_info=True, bg_color=[1,1,1,0])"
   ]
  },
  {
   "cell_type": "code",
   "execution_count": 16,
   "id": "e0f2beb8",
   "metadata": {
    "pycharm": {
     "name": "#%%\n"
    }
   },
   "outputs": [
    {
     "ename": "RuntimeError",
     "evalue": "read mesh has no faces",
     "output_type": "error",
     "traceback": [
      "\u001B[0;31m---------------------------------------------------------------------------\u001B[0m",
      "\u001B[0;31mRuntimeError\u001B[0m                              Traceback (most recent call last)",
      "\u001B[0;32m<ipython-input-16-5c95ca89beb8>\u001B[0m in \u001B[0;36m<module>\u001B[0;34m\u001B[0m\n\u001B[1;32m      3\u001B[0m \u001B[0mrootdir\u001B[0m \u001B[0;34m=\u001B[0m \u001B[0;34m'/Volumes/Extreme SSD/MscProject/annotations_luc_har_old'\u001B[0m\u001B[0;34m\u001B[0m\u001B[0;34m\u001B[0m\u001B[0m\n\u001B[1;32m      4\u001B[0m \u001B[0;32mfor\u001B[0m \u001B[0mfilepath\u001B[0m \u001B[0;32min\u001B[0m \u001B[0mglob\u001B[0m\u001B[0;34m.\u001B[0m\u001B[0miglob\u001B[0m\u001B[0;34m(\u001B[0m\u001B[0mos\u001B[0m\u001B[0;34m.\u001B[0m\u001B[0mpath\u001B[0m\u001B[0;34m.\u001B[0m\u001B[0mjoin\u001B[0m\u001B[0;34m(\u001B[0m\u001B[0mrootdir\u001B[0m\u001B[0;34m,\u001B[0m \u001B[0;34m'*'\u001B[0m\u001B[0;34m,\u001B[0m \u001B[0;34m'*.obj'\u001B[0m\u001B[0;34m)\u001B[0m\u001B[0;34m)\u001B[0m\u001B[0;34m:\u001B[0m\u001B[0;34m\u001B[0m\u001B[0;34m\u001B[0m\u001B[0m\n\u001B[0;32m----> 5\u001B[0;31m     \u001B[0mverts\u001B[0m\u001B[0;34m,\u001B[0m \u001B[0m_\u001B[0m \u001B[0;34m=\u001B[0m \u001B[0mpp3d\u001B[0m\u001B[0;34m.\u001B[0m\u001B[0mread_mesh\u001B[0m\u001B[0;34m(\u001B[0m\u001B[0mfilepath\u001B[0m\u001B[0;34m)\u001B[0m\u001B[0;34m\u001B[0m\u001B[0;34m\u001B[0m\u001B[0m\n\u001B[0m\u001B[1;32m      6\u001B[0m     \u001B[0mfolder_num\u001B[0m \u001B[0;34m=\u001B[0m \u001B[0mPath\u001B[0m\u001B[0;34m(\u001B[0m\u001B[0mfilepath\u001B[0m\u001B[0;34m)\u001B[0m\u001B[0;34m.\u001B[0m\u001B[0mparts\u001B[0m\u001B[0;34m[\u001B[0m\u001B[0;34m-\u001B[0m\u001B[0;36m2\u001B[0m\u001B[0;34m]\u001B[0m\u001B[0;34m\u001B[0m\u001B[0;34m\u001B[0m\u001B[0m\n\u001B[1;32m      7\u001B[0m     \u001B[0;32mif\u001B[0m \u001B[0mos\u001B[0m\u001B[0;34m.\u001B[0m\u001B[0mpath\u001B[0m\u001B[0;34m.\u001B[0m\u001B[0mexists\u001B[0m\u001B[0;34m(\u001B[0m\u001B[0mos\u001B[0m\u001B[0;34m.\u001B[0m\u001B[0mpath\u001B[0m\u001B[0;34m.\u001B[0m\u001B[0mjoin\u001B[0m\u001B[0;34m(\u001B[0m\u001B[0mPath\u001B[0m\u001B[0;34m(\u001B[0m\u001B[0mfilepath\u001B[0m\u001B[0;34m)\u001B[0m\u001B[0;34m.\u001B[0m\u001B[0mparts\u001B[0m\u001B[0;34m[\u001B[0m\u001B[0;34m:\u001B[0m\u001B[0;34m-\u001B[0m\u001B[0;36m1\u001B[0m\u001B[0;34m]\u001B[0m\u001B[0;34m,\u001B[0m \u001B[0;34m'ldmks.csv'\u001B[0m\u001B[0;34m)\u001B[0m\u001B[0;34m)\u001B[0m\u001B[0;34m:\u001B[0m\u001B[0;34m\u001B[0m\u001B[0;34m\u001B[0m\u001B[0m\n",
      "\u001B[0;32m/opt/miniconda3/envs/py36/lib/python3.6/site-packages/potpourri3d/io.py\u001B[0m in \u001B[0;36mread_mesh\u001B[0;34m(filename)\u001B[0m\n\u001B[1;32m      5\u001B[0m \u001B[0;34m\u001B[0m\u001B[0m\n\u001B[1;32m      6\u001B[0m \u001B[0;32mdef\u001B[0m \u001B[0mread_mesh\u001B[0m\u001B[0;34m(\u001B[0m\u001B[0mfilename\u001B[0m\u001B[0;34m)\u001B[0m\u001B[0;34m:\u001B[0m\u001B[0;34m\u001B[0m\u001B[0;34m\u001B[0m\u001B[0m\n\u001B[0;32m----> 7\u001B[0;31m     \u001B[0mV\u001B[0m\u001B[0;34m,\u001B[0m \u001B[0mF\u001B[0m \u001B[0;34m=\u001B[0m \u001B[0mpp3db\u001B[0m\u001B[0;34m.\u001B[0m\u001B[0mread_mesh\u001B[0m\u001B[0;34m(\u001B[0m\u001B[0mfilename\u001B[0m\u001B[0;34m)\u001B[0m\u001B[0;34m\u001B[0m\u001B[0;34m\u001B[0m\u001B[0m\n\u001B[0m\u001B[1;32m      8\u001B[0m     \u001B[0mV\u001B[0m \u001B[0;34m=\u001B[0m \u001B[0mnp\u001B[0m\u001B[0;34m.\u001B[0m\u001B[0mascontiguousarray\u001B[0m\u001B[0;34m(\u001B[0m\u001B[0mV\u001B[0m\u001B[0;34m)\u001B[0m\u001B[0;34m\u001B[0m\u001B[0;34m\u001B[0m\u001B[0m\n\u001B[1;32m      9\u001B[0m     \u001B[0mF\u001B[0m \u001B[0;34m=\u001B[0m \u001B[0mnp\u001B[0m\u001B[0;34m.\u001B[0m\u001B[0mascontiguousarray\u001B[0m\u001B[0;34m(\u001B[0m\u001B[0mF\u001B[0m\u001B[0;34m)\u001B[0m\u001B[0;34m\u001B[0m\u001B[0;34m\u001B[0m\u001B[0m\n",
      "\u001B[0;31mRuntimeError\u001B[0m: read mesh has no faces"
     ]
    },
    {
     "name": "stderr",
     "output_type": "stream",
     "text": [
      "Traceback (most recent call last):\n",
      "  File \"_pydevd_bundle/pydevd_cython_darwin_36_64.pyx\", line 1035, in _pydevd_bundle.pydevd_cython_darwin_36_64.PyDBFrame.trace_dispatch\n",
      "  File \"/Applications/PyCharm.app/Contents/plugins/python/helpers-pro/jupyter_debug/pydev_jupyter_plugin.py\", line 144, in cmd_step_over\n",
      "    if _is_inside_jupyter_cell(frame, pydb):\n",
      "  File \"/Applications/PyCharm.app/Contents/plugins/python/helpers-pro/jupyter_debug/pydev_jupyter_plugin.py\", line 209, in _is_inside_jupyter_cell\n",
      "    if is_cell_filename(filename):\n",
      "  File \"/Applications/PyCharm.app/Contents/plugins/python/helpers-pro/jupyter_debug/pydev_jupyter_plugin.py\", line 220, in is_cell_filename\n",
      "    ipython_shell = get_ipython()\n",
      "NameError: name 'get_ipython' is not defined\n"
     ]
    }
   ],
   "source": []
  },
  {
   "cell_type": "code",
   "execution_count": 10,
   "metadata": {
    "collapsed": false,
    "pycharm": {
     "name": "#%%\n"
    }
   },
   "outputs": [],
   "source": []
  }
 ],
 "metadata": {
  "interpreter": {
   "hash": "d60877716910dd5acf0ab5261bf4e886ee416ed8a7bd2e8f2bf3c4be2904e9f9"
  },
  "kernelspec": {
   "display_name": "ds36",
   "language": "python",
   "name": "python3"
  },
  "language_info": {
   "codemirror_mode": {
    "name": "ipython",
    "version": 3
   },
   "file_extension": ".py",
   "mimetype": "text/x-python",
   "name": "python",
   "nbconvert_exporter": "python",
   "pygments_lexer": "ipython3",
   "version": "3.6.13"
  }
 },
 "nbformat": 4,
 "nbformat_minor": 5
}