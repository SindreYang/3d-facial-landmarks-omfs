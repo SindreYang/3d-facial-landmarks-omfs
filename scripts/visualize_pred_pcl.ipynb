{
 "cells": [
  {
   "cell_type": "code",
   "execution_count": 1,
   "id": "39c2c233",
   "metadata": {},
   "outputs": [],
   "source": [
    "import numpy as np\n",
    "import pptk\n",
    "import potpourri3d as pp3d\n",
    "import csv\n",
    "import glob\n",
    "import os"
   ]
  },
  {
   "cell_type": "code",
   "execution_count": 87,
   "id": "a7c13816",
   "metadata": {},
   "outputs": [],
   "source": [
    "file_data_path='/Users/carotenuto/Master Radboud/MscProj/preds_pcl_all_c256_l10/preds/vis/pred_pt_01510.txt'\n",
    "pcl= np.loadtxt(file_data_path,delimiter=',')\n",
    "col1 = pcl[:,3:]\n",
    "file_data_path2='/Users/carotenuto/Master Radboud/MscProj/preds_pcl_all_c256_l10/gt_vis/gt_pt_01510.txt'\n",
    "pcl2= np.loadtxt(file_data_path2,delimiter=',')\n",
    "col2 = pcl2[:,3:]"
   ]
  },
  {
   "cell_type": "code",
   "execution_count": 88,
   "id": "7b5c6d55",
   "metadata": {},
   "outputs": [],
   "source": [
    "col = np.maximum(col1, col2)"
   ]
  },
  {
   "cell_type": "code",
   "execution_count": 89,
   "id": "360a79c5",
   "metadata": {},
   "outputs": [],
   "source": [
    "for i in range(len(col)):\n",
    "    if col[i,0] == 1 and col[i,1] == 1:\n",
    "        col[i,0] = 0.0"
   ]
  },
  {
   "cell_type": "code",
   "execution_count": 90,
   "id": "271e8df2",
   "metadata": {
    "pycharm": {
     "name": "#%%\n"
    }
   },
   "outputs": [],
   "source": [
    "v = pptk.viewer(pcl[:,:3], col, show_axis=False)\n",
    "v.set(point_size=0.5, show_axis=False, show_info=True)"
   ]
  },
  {
   "cell_type": "code",
   "execution_count": null,
   "id": "e759d570",
   "metadata": {
    "pycharm": {
     "name": "#%%\n"
    }
   },
   "outputs": [],
   "source": [
    "# Visualize prediction against ground truth"
   ]
  },
  {
   "cell_type": "code",
   "execution_count": 112,
   "id": "c92a8826",
   "metadata": {},
   "outputs": [],
   "source": [
    "file_data_path='/Users/carotenuto/Master Radboud/MscProj/preds_pcl_all_c256_l10/preds/vis/pred_01511.txt'\n",
    "pcl= np.loadtxt(file_data_path,delimiter=',')\n",
    "col1 = pcl[:,3:]\n",
    "file_data_path2='/Users/carotenuto/Master Radboud/MscProj/preds_pcl_all_c256_l10/gt_vis/gt_01511.txt'\n",
    "pcl2= np.loadtxt(file_data_path2,delimiter=',')\n",
    "col2 = pcl2[:,3:]"
   ]
  },
  {
   "cell_type": "code",
   "execution_count": 115,
   "id": "761b18e4",
   "metadata": {},
   "outputs": [],
   "source": [
    "col = np.zeros((col1.shape[0], col1.shape[1]))\n",
    "for i in range(len(col)):\n",
    "    col[i,2] = col1[i,1]\n",
    "\n",
    "v = pptk.viewer(pcl[:,:3], col1, show_axis=False)\n",
    "v.set(point_size=0.5, show_axis=False, show_info=True)"
   ]
  },
  {
   "cell_type": "code",
   "execution_count": 2,
   "id": "e603a37d",
   "metadata": {
    "pycharm": {
     "name": "#%%\n"
    }
   },
   "outputs": [
    {
     "ename": "FileNotFoundError",
     "evalue": "[Errno 2] No such file or directory: '/Users/carotenuto/Master Radboud/MscProj/manual_labels/headspace0-101_ownlabels/00091/ldmks.csv'",
     "output_type": "error",
     "traceback": [
      "\u001B[0;31m---------------------------------------------------------------------------\u001B[0m",
      "\u001B[0;31mFileNotFoundError\u001B[0m                         Traceback (most recent call last)",
      "\u001B[0;32m<ipython-input-2-6a2d25540ea0>\u001B[0m in \u001B[0;36m<module>\u001B[0;34m\u001B[0m\n\u001B[1;32m      8\u001B[0m \u001B[0;34m\u001B[0m\u001B[0m\n\u001B[1;32m      9\u001B[0m \u001B[0mrows\u001B[0m \u001B[0;34m=\u001B[0m \u001B[0;34m[\u001B[0m\u001B[0;34m]\u001B[0m\u001B[0;34m\u001B[0m\u001B[0;34m\u001B[0m\u001B[0m\n\u001B[0;32m---> 10\u001B[0;31m \u001B[0;32mwith\u001B[0m \u001B[0mopen\u001B[0m\u001B[0;34m(\u001B[0m\u001B[0mos\u001B[0m\u001B[0;34m.\u001B[0m\u001B[0mpath\u001B[0m\u001B[0;34m.\u001B[0m\u001B[0mjoin\u001B[0m\u001B[0;34m(\u001B[0m\u001B[0mrootdir\u001B[0m\u001B[0;34m,\u001B[0m \u001B[0mfolder_number\u001B[0m\u001B[0;34m,\u001B[0m \u001B[0;34m'ldmks.csv'\u001B[0m\u001B[0;34m)\u001B[0m\u001B[0;34m,\u001B[0m \u001B[0;34m'r'\u001B[0m\u001B[0;34m)\u001B[0m \u001B[0;32mas\u001B[0m \u001B[0mf\u001B[0m\u001B[0;34m:\u001B[0m\u001B[0;34m\u001B[0m\u001B[0;34m\u001B[0m\u001B[0m\n\u001B[0m\u001B[1;32m     11\u001B[0m     \u001B[0mcsvreader\u001B[0m \u001B[0;34m=\u001B[0m \u001B[0mcsv\u001B[0m\u001B[0;34m.\u001B[0m\u001B[0mreader\u001B[0m\u001B[0;34m(\u001B[0m\u001B[0mf\u001B[0m\u001B[0;34m)\u001B[0m\u001B[0;34m\u001B[0m\u001B[0;34m\u001B[0m\u001B[0m\n\u001B[1;32m     12\u001B[0m     \u001B[0;32mfor\u001B[0m \u001B[0mrow\u001B[0m \u001B[0;32min\u001B[0m \u001B[0mcsvreader\u001B[0m\u001B[0;34m:\u001B[0m\u001B[0;34m\u001B[0m\u001B[0;34m\u001B[0m\u001B[0m\n",
      "\u001B[0;31mFileNotFoundError\u001B[0m: [Errno 2] No such file or directory: '/Users/carotenuto/Master Radboud/MscProj/manual_labels/headspace0-101_ownlabels/00091/ldmks.csv'"
     ]
    }
   ],
   "source": [
    "# Visualize Headspace labels against own manual labels\n",
    "\n",
    "folder_number = '00091'\n",
    "rootdir = '/Users/carotenuto/Master Radboud/MscProj/manual_labels/headspace0-101_ownlabels'\n",
    "for filepath in glob.iglob(os.path.join(rootdir, folder_number, '*.obj')):\n",
    "    verts, _ = pp3d.read_mesh(filepath)\n",
    "\n",
    "\n",
    "rows = []\n",
    "with open(os.path.join(rootdir, folder_number, 'ldmks.csv'), 'r') as f:\n",
    "    csvreader = csv.reader(f)\n",
    "    for row in csvreader:\n",
    "        rows.append(row)\n",
    "\n",
    "ldmks = rows[7:19]\n",
    "ldmks_own = [row[1:4] for row in ldmks]\n",
    "\n",
    "# only keep selected landmarks\n",
    "LANDMARK_INDICES = [8, 27, 30, 31, 33, 35, 36, 39, 42, 45, 60, 64]\n",
    "for filepath in glob.iglob(os.path.join(rootdir, folder_number, 'ldmks13*.txt')):\n",
    "    ldmks_hs = np.loadtxt(filepath)\n",
    "ldmks_hs = ldmks_hs.astype(int)\n",
    "verts_vis = np.concatenate((verts, ldmks_own))\n",
    "\n",
    "#c_verts = np.full(len(verts), False, dtype=bool)\n",
    "c_mask = np.full(len(verts_vis), False, dtype=bool)\n",
    "ldmks_hs = ldmks_hs[LANDMARK_INDICES]\n",
    "c_mask[ldmks_hs-1] = True\n",
    "\n",
    "print(np.unique(c_mask, return_counts=True))\n",
    "\n",
    "#c_mask = verts_vis[ldmks_hs == True]\n",
    "c = np.zeros((len(verts_vis), 3))\n",
    "c[c_mask] = [1, 1, 0] # yellow, headspace labels\n",
    "\n",
    "\n",
    "#c_ldmks_own = np.full(len(ldmks), True, dtype=bool)\n",
    "#c_ldmks_hs = np.full(len(ldmks_per_file), True, dtype=bool)\n",
    "#c_mask = np.concatenate((c_verts, c_ldmks, c_ldmks_hs))\n",
    "\n",
    " # green, own labels\n",
    "\n",
    "c[len(c)-len(ldmks_own):] = [1, 0, 1] # pink, own labels\n",
    "\n",
    "v = pptk.viewer(verts_vis, c, show_axis=False)\n",
    "v.set(point_size=0.3, show_axis=False, show_info=True, bg_color=[1,1,1,0])"
   ]
  },
  {
   "cell_type": "code",
   "execution_count": 4,
   "id": "59976cf4",
   "metadata": {
    "pycharm": {
     "name": "#%%\n"
    }
   },
   "outputs": [],
   "source": [
    "file_data_path='/Users/carotenuto/Master Radboud/MscProj/subjects_1-10_copy/pcl/00001/130925161618.txt'\n",
    "pcl= np.loadtxt(file_data_path,delimiter=',')\n",
    "verts = pcl[:,:3]\n",
    "col = pcl[:,3:]\n",
    "v = pptk.viewer(verts, col, show_axis=False)\n",
    "v.set(point_size=1.4, show_axis=False, show_info=True, bg_color=[1,1,1,0])"
   ]
  },
  {
   "cell_type": "code",
   "execution_count": null,
   "id": "e0f2beb8",
   "metadata": {
    "pycharm": {
     "name": "#%%\n"
    }
   },
   "outputs": [],
   "source": []
  }
 ],
 "metadata": {
  "kernelspec": {
   "display_name": "ds36",
   "language": "python",
   "name": "ds36"
  },
  "language_info": {
   "codemirror_mode": {
    "name": "ipython",
    "version": 3
   },
   "file_extension": ".py",
   "mimetype": "text/x-python",
   "name": "python",
   "nbconvert_exporter": "python",
   "pygments_lexer": "ipython3",
   "version": "3.6.13"
  }
 },
 "nbformat": 4,
 "nbformat_minor": 5
}