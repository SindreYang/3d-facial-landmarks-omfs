{
 "cells": [
  {
   "cell_type": "code",
   "execution_count": 1,
   "metadata": {},
   "outputs": [],
   "source": [
    "import numpy as np\n",
    "import pptk"
   ]
  },
  {
   "cell_type": "code",
   "execution_count": 11,
   "metadata": {},
   "outputs": [
    {
     "name": "stdout",
     "output_type": "stream",
     "text": [
      "Using matplotlib backend: MacOSX\n"
     ]
    }
   ],
   "source": [
    "%matplotlib auto"
   ]
  },
  {
   "cell_type": "code",
   "execution_count": 51,
   "metadata": {},
   "outputs": [
    {
     "name": "stdout",
     "output_type": "stream",
     "text": [
      "\u001b[31mERROR: Could not find a version that satisfies the requirement pptk (from versions: none)\u001b[0m\n",
      "\u001b[31mERROR: No matching distribution found for pptk\u001b[0m\n",
      "Note: you may need to restart the kernel to use updated packages.\n"
     ]
    }
   ],
   "source": [
    "pip install pptk"
   ]
  },
  {
   "cell_type": "code",
   "execution_count": 36,
   "metadata": {},
   "outputs": [],
   "source": [
    "file_data_path='/Users/carotenuto/Master Radboud/MscProj/preds_pcl_all_c256_l10/preds/vis/pred_pt_00020.txt'\n",
    "point_cloud= np.loadtxt(file_data_path,delimiter=',')\n",
    "#mean_Z=np.mean(point_cloud,axis=0)[2]\n",
    "#spatial_query=point_cloud[abs( point_cloud[:,2]-mean_Z)<1]\n",
    "xyz=spatial_query[:,:3]\n",
    "rgb=spatial_query[:,3:]"
   ]
  },
  {
   "cell_type": "code",
   "execution_count": 41,
   "metadata": {},
   "outputs": [],
   "source": [
    "ax = plt.axes(projection='3d')"
   ]
  },
  {
   "cell_type": "code",
   "execution_count": 42,
   "metadata": {},
   "outputs": [],
   "source": [
    "ax.scatter(xyz[:,0], xyz[:,1], xyz[:,2], c = rgb*255, s=1)\n",
    "plt.show()"
   ]
  },
  {
   "cell_type": "code",
   "execution_count": 33,
   "metadata": {},
   "outputs": [],
   "source": [
    "plt.show()"
   ]
  },
  {
   "cell_type": "code",
   "execution_count": 34,
   "metadata": {},
   "outputs": [
    {
     "data": {
      "text/plain": [
       "(25892, 6)"
      ]
     },
     "execution_count": 34,
     "metadata": {},
     "output_type": "execute_result"
    }
   ],
   "source": [
    "point_cloud.shape"
   ]
  },
  {
   "cell_type": "code",
   "execution_count": 40,
   "metadata": {},
   "outputs": [
    {
     "data": {
      "text/plain": [
       "array([ 30.798434, -43.637868,  17.38005 ,   0.      ,   0.      ,\n",
       "         0.      ])"
      ]
     },
     "execution_count": 40,
     "metadata": {},
     "output_type": "execute_result"
    }
   ],
   "source": [
    "point_cloud[0]"
   ]
  },
  {
   "cell_type": "code",
   "execution_count": 124,
   "metadata": {},
   "outputs": [],
   "source": [
    "file_data_path='/Users/carotenuto/Master Radboud/MscProj/preds_pcl_all_c256_l10/preds/vis/pred_pt_01510.txt'\n",
    "pcl= np.loadtxt(file_data_path,delimiter=',')\n",
    "col1 = pcl[:,3:]\n",
    "file_data_path2='/Users/carotenuto/Master Radboud/MscProj/preds_pcl_all_c256_l10/gt_vis/gt_pt_01510.txt'\n",
    "pcl2= np.loadtxt(file_data_path2,delimiter=',')\n",
    "col2 = pcl2[:,3:]"
   ]
  },
  {
   "cell_type": "code",
   "execution_count": 125,
   "metadata": {},
   "outputs": [],
   "source": [
    "col = np.maximum(col1, col2)"
   ]
  },
  {
   "cell_type": "code",
   "execution_count": 126,
   "metadata": {},
   "outputs": [],
   "source": [
    "for i in range(len(col)):\n",
    "    if col[i,0] == 1 and col[i,1] == 1:\n",
    "        col[i,0] = 0.0"
   ]
  },
  {
   "cell_type": "code",
   "execution_count": 127,
   "metadata": {},
   "outputs": [],
   "source": [
    "v = pptk.viewer(pcl[:,:3], col, show_axis=False)\n",
    "v.set(point_size=0.5, show_axis=False, show_info=True)"
   ]
  },
  {
   "cell_type": "code",
   "execution_count": 17,
   "metadata": {},
   "outputs": [
    {
     "data": {
      "text/plain": [
       "(25892, 3)"
      ]
     },
     "execution_count": 17,
     "metadata": {},
     "output_type": "execute_result"
    }
   ],
   "source": []
  },
  {
   "cell_type": "code",
   "execution_count": 112,
   "metadata": {},
   "outputs": [],
   "source": [
    "file_data_path='/Users/carotenuto/Master Radboud/MscProj/preds_pcl_all_c256_l10/preds/vis/pred_01511.txt'\n",
    "pcl= np.loadtxt(file_data_path,delimiter=',')\n",
    "col1 = pcl[:,3:]\n",
    "file_data_path2='/Users/carotenuto/Master Radboud/MscProj/preds_pcl_all_c256_l10/gt_vis/gt_01511.txt'\n",
    "pcl2= np.loadtxt(file_data_path2,delimiter=',')\n",
    "col2 = pcl2[:,3:]"
   ]
  },
  {
   "cell_type": "code",
   "execution_count": 115,
   "metadata": {},
   "outputs": [],
   "source": [
    "col = np.zeros((col1.shape[0], col1.shape[1]))\n",
    "for i in range(len(col)):\n",
    "    col[i,2] = col1[i,1]\n",
    "\n",
    "v = pptk.viewer(pcl[:,:3], col1, show_axis=False)\n",
    "v.set(point_size=0.5, show_axis=False, show_info=True)"
   ]
  },
  {
   "cell_type": "code",
   "execution_count": null,
   "metadata": {},
   "outputs": [],
   "source": []
  }
 ],
 "metadata": {
  "kernelspec": {
   "display_name": "ds36",
   "language": "python",
   "name": "ds36"
  },
  "language_info": {
   "codemirror_mode": {
    "name": "ipython",
    "version": 3
   },
   "file_extension": ".py",
   "mimetype": "text/x-python",
   "name": "python",
   "nbconvert_exporter": "python",
   "pygments_lexer": "ipython3",
   "version": "3.6.13"
  }
 },
 "nbformat": 4,
 "nbformat_minor": 5
}
