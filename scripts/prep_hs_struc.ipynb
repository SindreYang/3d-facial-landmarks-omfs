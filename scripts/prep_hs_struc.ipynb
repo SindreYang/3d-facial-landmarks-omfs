{
 "cells": [
  {
   "cell_type": "code",
   "execution_count": 33,
   "id": "6242cbd2",
   "metadata": {},
   "outputs": [
    {
     "name": "stdout",
     "output_type": "stream",
     "text": [
      "['/Users/carotenuto/Master Radboud/MscProj/headspace-prep/00009/ldmks130926122455.txt', '/Users/carotenuto/Master Radboud/MscProj/headspace-prep/00007/ldmks130926120722.txt', '/Users/carotenuto/Master Radboud/MscProj/headspace-prep/00001/ldmks130925161618.txt', '/Users/carotenuto/Master Radboud/MscProj/headspace-prep/00004/ldmks130925163936.txt', '/Users/carotenuto/Master Radboud/MscProj/headspace-prep/00003/ldmks130925162842.txt', '/Users/carotenuto/Master Radboud/MscProj/headspace-prep/00002/ldmks130925160744.txt', '/Users/carotenuto/Master Radboud/MscProj/headspace-prep/00005/ldmks130926112610.txt', '/Users/carotenuto/Master Radboud/MscProj/headspace-prep/00010/ldmks130926123258.txt'] 8\n"
     ]
    }
   ],
   "source": [
    "# Prepare Headspace folder structure for MeshCNN (only train)\n",
    "\n",
    "import os\n",
    "import glob\n",
    "import shutil\n",
    "\n",
    "\n",
    "rootdir = '/Users/carotenuto/Master Radboud/MscProj/headspace-prep/'\n",
    "new_dir_path = '/Users/carotenuto/Master Radboud/MscProj/headspace10_cleaned/'\n",
    "\n",
    "landmark_files = []\n",
    "for filepath in glob.iglob(rootdir + '*/ldmks*.txt'):\n",
    "    landmark_files.append(filepath)\n",
    "    \n",
    "print(landmark_files, len(landmark_files))\n"
   ]
  },
  {
   "cell_type": "code",
   "execution_count": 34,
   "id": "e0b08ab1",
   "metadata": {},
   "outputs": [
    {
     "name": "stdout",
     "output_type": "stream",
     "text": [
      "['/Users/carotenuto/Master Radboud/MscProj/headspace-prep/00009/130926122455.obj', '/Users/carotenuto/Master Radboud/MscProj/headspace-prep/00007/130926120722.obj', '/Users/carotenuto/Master Radboud/MscProj/headspace-prep/00001/130925161618.obj', '/Users/carotenuto/Master Radboud/MscProj/headspace-prep/00004/130925163936.obj', '/Users/carotenuto/Master Radboud/MscProj/headspace-prep/00003/130925162842.obj', '/Users/carotenuto/Master Radboud/MscProj/headspace-prep/00002/130925160744.obj', '/Users/carotenuto/Master Radboud/MscProj/headspace-prep/00005/130926112610.obj', '/Users/carotenuto/Master Radboud/MscProj/headspace-prep/00010/130926123258.obj'] 8\n"
     ]
    }
   ],
   "source": [
    "obj_files = []\n",
    "for f in landmark_files:\n",
    "    # convert e.g. ldmks130926123258.txt to 130926123258.mtl\n",
    "    obj_path = os.path.basename(f)[5:-4] + '.obj'\n",
    "    obj_files.append(os.path.dirname(f) + '/' + obj_path)\n",
    "print(obj_files, len(obj_files))"
   ]
  },
  {
   "cell_type": "code",
   "execution_count": 35,
   "id": "92ac9a1f",
   "metadata": {},
   "outputs": [
    {
     "data": {
      "text/plain": "''"
     },
     "execution_count": 35,
     "metadata": {},
     "output_type": "execute_result"
    }
   ],
   "source": [
    "''# create new folders only for objects with existing landmarks\n",
    "#for i in range(len(landmark_files)):\n",
    "    "
   ]
  },
  {
   "cell_type": "code",
   "execution_count": 36,
   "id": "24b0335a",
   "metadata": {},
   "outputs": [
    {
     "name": "stdout",
     "output_type": "stream",
     "text": [
      "['00009', '00007', '00001', '00004', '00003', '00002', '00005', '00010']\n"
     ]
    }
   ],
   "source": [
    "import os\n",
    "\n",
    "\n",
    "# collect directory numbers\n",
    "direcs = []\n",
    "for subdir, dirs, files in os.walk(rootdir):\n",
    "    for dirx in dirs:\n",
    "        direcs.append(dirx)\n",
    "\n",
    "# detect directories with landmarks\n",
    "direcs_ldmks = []\n",
    "for direc in direcs:\n",
    "    for File in os.listdir(rootdir + direc):\n",
    "        if all([File.endswith(\".txt\") and File.startswith(\"ldmks\")]):\n",
    "            direcs_ldmks.append(direc)\n",
    "print(direcs_ldmks)\n",
    "\n",
    "#for direc in direcs_ldmks:\n",
    "#    for File in os.listdir(rootdir + direc):"
   ]
  },
  {
   "cell_type": "code",
   "execution_count": 37,
   "id": "67df9723",
   "metadata": {},
   "outputs": [
    {
     "name": "stdout",
     "output_type": "stream",
     "text": [
      "{'00009': ['/Users/carotenuto/Master Radboud/MscProj/headspace-prep/00009/ldmks130926122455.txt', '/Users/carotenuto/Master Radboud/MscProj/headspace-prep/00009/130926122455.obj'], '00007': ['/Users/carotenuto/Master Radboud/MscProj/headspace-prep/00007/ldmks130926120722.txt', '/Users/carotenuto/Master Radboud/MscProj/headspace-prep/00007/130926120722.obj'], '00001': ['/Users/carotenuto/Master Radboud/MscProj/headspace-prep/00001/ldmks130925161618.txt', '/Users/carotenuto/Master Radboud/MscProj/headspace-prep/00001/130925161618.obj'], '00004': ['/Users/carotenuto/Master Radboud/MscProj/headspace-prep/00004/ldmks130925163936.txt', '/Users/carotenuto/Master Radboud/MscProj/headspace-prep/00004/130925163936.obj'], '00003': ['/Users/carotenuto/Master Radboud/MscProj/headspace-prep/00003/ldmks130925162842.txt', '/Users/carotenuto/Master Radboud/MscProj/headspace-prep/00003/130925162842.obj'], '00002': ['/Users/carotenuto/Master Radboud/MscProj/headspace-prep/00002/ldmks130925160744.txt', '/Users/carotenuto/Master Radboud/MscProj/headspace-prep/00002/130925160744.obj'], '00005': ['/Users/carotenuto/Master Radboud/MscProj/headspace-prep/00005/ldmks130926112610.txt', '/Users/carotenuto/Master Radboud/MscProj/headspace-prep/00005/130926112610.obj'], '00010': ['/Users/carotenuto/Master Radboud/MscProj/headspace-prep/00010/ldmks130926123258.txt', '/Users/carotenuto/Master Radboud/MscProj/headspace-prep/00010/130926123258.obj']}\n"
     ]
    }
   ],
   "source": [
    "structure = dict((direcs_ldmks[i], [landmark_files[i], obj_files[i]]) for i in range(len(direcs_ldmks)))\n",
    "print(structure)"
   ]
  },
  {
   "cell_type": "code",
   "execution_count": 38,
   "id": "b04ff6c8",
   "metadata": {},
   "outputs": [],
   "source": [
    "for direc in structure:\n",
    "    if not os.path.exists(new_dir_path + direc):\n",
    "        os.makedirs(new_dir_path + direc + \"/train\")\n",
    "\n",
    "    shutil.copy(structure[direc][0], new_dir_path + direc + '/train/' + os.path.basename(structure[direc][0]))\n",
    "    shutil.copy(structure[direc][1], new_dir_path + direc + '/train/' + os.path.basename(structure[direc][1]))"
   ]
  },
  {
   "cell_type": "code",
   "execution_count": 79,
   "id": "8067765b",
   "metadata": {},
   "outputs": [
    {
     "data": {
      "text/plain": [
       "False"
      ]
     },
     "execution_count": 79,
     "metadata": {},
     "output_type": "execute_result"
    }
   ],
   "source": [
    "os.path.exists(\"/Users/carotenuto/Master Radboud/MscProj/headspace10_cleaned/00007\")"
   ]
  },
  {
   "cell_type": "code",
   "execution_count": 16,
   "id": "0a38b170",
   "metadata": {},
   "outputs": [
    {
     "name": "stdout",
     "output_type": "stream",
     "text": [
      "zsh:source:1: no such file or directory: activate\r\n",
      "Installed kernelspec ds39 in /Users/carotenuto/Library/Jupyter/kernels/ds39\r\n"
     ]
    }
   ],
   "source": [
    "!source activate ds39\n",
    "!python -m ipykernel install --user --name ds39 --display-name \"Python (39)\""
   ]
  },
  {
   "cell_type": "code",
   "execution_count": null,
   "outputs": [],
   "source": [],
   "metadata": {
    "collapsed": false,
    "pycharm": {
     "name": "#%%\n"
    }
   }
  }
 ],
 "metadata": {
  "kernelspec": {
   "display_name": "ds39",
   "language": "python",
   "name": "ds39"
  },
  "language_info": {
   "codemirror_mode": {
    "name": "ipython",
    "version": 3
   },
   "file_extension": ".py",
   "mimetype": "text/x-python",
   "name": "python",
   "nbconvert_exporter": "python",
   "pygments_lexer": "ipython3",
   "version": "3.9.6"
  }
 },
 "nbformat": 4,
 "nbformat_minor": 5
}