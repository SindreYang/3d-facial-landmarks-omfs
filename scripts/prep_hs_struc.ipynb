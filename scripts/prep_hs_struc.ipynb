{
 "cells": [
  {
   "cell_type": "code",
   "execution_count": 1,
   "id": "6242cbd2",
   "metadata": {},
   "outputs": [
    {
     "name": "stdout",
     "output_type": "stream",
     "text": [
      "['/Users/carotenuto/Master Radboud/MscProj/subjects_1-150/00031/ldmks130926153901.txt', '/Users/carotenuto/Master Radboud/MscProj/subjects_1-150/00009/ldmks130926122455.txt', '/Users/carotenuto/Master Radboud/MscProj/subjects_1-150/00036/ldmks130926160435.txt', '/Users/carotenuto/Master Radboud/MscProj/subjects_1-150/00038/ldmks130926165112.txt', '/Users/carotenuto/Master Radboud/MscProj/subjects_1-150/00007/ldmks130926120722.txt', '/Users/carotenuto/Master Radboud/MscProj/subjects_1-150/00053/ldmks130926194939.txt', '/Users/carotenuto/Master Radboud/MscProj/subjects_1-150/00098/ldmks130928141435.txt', '/Users/carotenuto/Master Radboud/MscProj/subjects_1-150/00054/ldmks130926195157.txt', '/Users/carotenuto/Master Radboud/MscProj/subjects_1-150/00062/ldmks130927143133.txt', '/Users/carotenuto/Master Radboud/MscProj/subjects_1-150/00096/ldmks130928135232.txt', '/Users/carotenuto/Master Radboud/MscProj/subjects_1-150/00091/ldmks130928132008.txt', '/Users/carotenuto/Master Radboud/MscProj/subjects_1-150/00065/ldmks130927144418.txt', '/Users/carotenuto/Master Radboud/MscProj/subjects_1-150/00039/ldmks130926172718.txt', '/Users/carotenuto/Master Radboud/MscProj/subjects_1-150/00001/ldmks130925161618.txt', '/Users/carotenuto/Master Radboud/MscProj/subjects_1-150/00037/ldmks130926162648.txt', '/Users/carotenuto/Master Radboud/MscProj/subjects_1-150/00064/ldmks130927144001.txt', '/Users/carotenuto/Master Radboud/MscProj/subjects_1-150/00090/ldmks130928131537.txt', '/Users/carotenuto/Master Radboud/MscProj/subjects_1-150/00097/ldmks130928141047.txt', '/Users/carotenuto/Master Radboud/MscProj/subjects_1-150/00063/ldmks130927143442.txt', '/Users/carotenuto/Master Radboud/MscProj/subjects_1-150/00055/ldmks130926195358.txt', '/Users/carotenuto/Master Radboud/MscProj/subjects_1-150/00052/ldmks130926193829.txt', '/Users/carotenuto/Master Radboud/MscProj/subjects_1-150/00070/ldmks130927170809.txt', '/Users/carotenuto/Master Radboud/MscProj/subjects_1-150/00084/ldmks130928123314.txt', '/Users/carotenuto/Master Radboud/MscProj/subjects_1-150/00083/ldmks130928122801.txt', '/Users/carotenuto/Master Radboud/MscProj/subjects_1-150/00077/ldmks130928104803.txt', '/Users/carotenuto/Master Radboud/MscProj/subjects_1-150/00046/ldmks130926184957.txt', '/Users/carotenuto/Master Radboud/MscProj/subjects_1-150/00015/ldmks130926130920.txt', '/Users/carotenuto/Master Radboud/MscProj/subjects_1-150/00047/ldmks130926185628.txt', '/Users/carotenuto/Master Radboud/MscProj/subjects_1-150/00040/ldmks130926181753.txt', '/Users/carotenuto/Master Radboud/MscProj/subjects_1-150/00049/ldmks130926193106.txt', '/Users/carotenuto/Master Radboud/MscProj/subjects_1-150/00076/ldmks130928104541.txt', '/Users/carotenuto/Master Radboud/MscProj/subjects_1-150/00082/ldmks130928120730.txt', '/Users/carotenuto/Master Radboud/MscProj/subjects_1-150/00085/ldmks130928123619.txt', '/Users/carotenuto/Master Radboud/MscProj/subjects_1-150/00071/ldmks130927171226.txt', '/Users/carotenuto/Master Radboud/MscProj/subjects_1-150/00014/ldmks130926130147.txt', '/Users/carotenuto/Master Radboud/MscProj/subjects_1-150/00013/ldmks130926124702.txt', '/Users/carotenuto/Master Radboud/MscProj/subjects_1-150/00057/ldmks130927123937.txt', '/Users/carotenuto/Master Radboud/MscProj/subjects_1-150/00092/ldmks130928133148.txt', '/Users/carotenuto/Master Radboud/MscProj/subjects_1-150/00066/ldmks130927152303.txt', '/Users/carotenuto/Master Radboud/MscProj/subjects_1-150/00059/ldmks130927134505.txt', '/Users/carotenuto/Master Radboud/MscProj/subjects_1-150/00061/ldmks130927142813.txt', '/Users/carotenuto/Master Radboud/MscProj/subjects_1-150/00095/ldmks130928134743.txt', '/Users/carotenuto/Master Radboud/MscProj/subjects_1-150/00035/ldmks130926155550.txt', '/Users/carotenuto/Master Radboud/MscProj/subjects_1-150/00004/ldmks130925163936.txt', '/Users/carotenuto/Master Radboud/MscProj/subjects_1-150/00003/ldmks130925162842.txt', '/Users/carotenuto/Master Radboud/MscProj/subjects_1-150/00094/ldmks130928134428.txt', '/Users/carotenuto/Master Radboud/MscProj/subjects_1-150/00060/ldmks130927134853.txt', '/Users/carotenuto/Master Radboud/MscProj/subjects_1-150/00067/ldmks130927153541.txt', '/Users/carotenuto/Master Radboud/MscProj/subjects_1-150/00093/ldmks130928133504.txt', '/Users/carotenuto/Master Radboud/MscProj/subjects_1-150/00058/ldmks130927124337.txt', '/Users/carotenuto/Master Radboud/MscProj/subjects_1-150/00051/ldmks130926193547.txt', '/Users/carotenuto/Master Radboud/MscProj/subjects_1-150/00056/ldmks130927121533.txt', '/Users/carotenuto/Master Radboud/MscProj/subjects_1-150/00069/ldmks130927170118.txt', '/Users/carotenuto/Master Radboud/MscProj/subjects_1-150/00002/ldmks130925160744.txt', '/Users/carotenuto/Master Radboud/MscProj/subjects_1-150/00005/ldmks130926112610.txt', '/Users/carotenuto/Master Radboud/MscProj/subjects_1-150/00100/ldmks130928142010.txt', '/Users/carotenuto/Master Radboud/MscProj/subjects_1-150/00016/ldmks130926131540.txt', '/Users/carotenuto/Master Radboud/MscProj/subjects_1-150/00011/ldmks130926124131.txt', '/Users/carotenuto/Master Radboud/MscProj/subjects_1-150/00027/ldmks130926152401.txt', '/Users/carotenuto/Master Radboud/MscProj/subjects_1-150/00018/ldmks130926133221.txt', '/Users/carotenuto/Master Radboud/MscProj/subjects_1-150/00020/ldmks130926140138.txt', '/Users/carotenuto/Master Radboud/MscProj/subjects_1-150/00080/ldmks130928111856.txt', '/Users/carotenuto/Master Radboud/MscProj/subjects_1-150/00074/ldmks130927175458.txt', '/Users/carotenuto/Master Radboud/MscProj/subjects_1-150/00073/ldmks130927175251.txt', '/Users/carotenuto/Master Radboud/MscProj/subjects_1-150/00045/ldmks130926184652.txt', '/Users/carotenuto/Master Radboud/MscProj/subjects_1-150/00042/ldmks130926183038.txt', '/Users/carotenuto/Master Radboud/MscProj/subjects_1-150/00026/ldmks130926152052.txt', '/Users/carotenuto/Master Radboud/MscProj/subjects_1-150/00019/ldmks130926133828.txt', '/Users/carotenuto/Master Radboud/MscProj/subjects_1-150/00010/ldmks130926123258.txt', '/Users/carotenuto/Master Radboud/MscProj/subjects_1-150/00028/ldmks130926152953.txt', '/Users/carotenuto/Master Radboud/MscProj/subjects_1-150/00088/ldmks130928125638.txt', '/Users/carotenuto/Master Radboud/MscProj/subjects_1-150/00043/ldmks130926183328.txt', '/Users/carotenuto/Master Radboud/MscProj/subjects_1-150/00044/ldmks130926183734.txt', '/Users/carotenuto/Master Radboud/MscProj/subjects_1-150/00086/ldmks130928123902.txt', '/Users/carotenuto/Master Radboud/MscProj/subjects_1-150/00072/ldmks130927174645.txt', '/Users/carotenuto/Master Radboud/MscProj/subjects_1-150/00081/ldmks130928115142.txt'] 76\n"
     ]
    }
   ],
   "source": [
    "# Prepare Headspace folder structure for MeshCNN (only train)\n",
    "\n",
    "import os\n",
    "import glob\n",
    "import shutil\n",
    "\n",
    "\n",
    "rootdir = '/Users/carotenuto/Master Radboud/MscProj/subjects_1-150/'\n",
    "new_dir_path = '/Users/carotenuto/Master Radboud/MscProj/headspace100_hs_struc/'\n",
    "\n",
    "landmark_files = []\n",
    "for filepath in glob.iglob(rootdir + '*/ldmks*.txt'):\n",
    "    landmark_files.append(filepath)\n",
    "    \n",
    "print(landmark_files, len(landmark_files))\n"
   ]
  },
  {
   "cell_type": "code",
   "execution_count": 2,
   "id": "e0b08ab1",
   "metadata": {},
   "outputs": [
    {
     "name": "stdout",
     "output_type": "stream",
     "text": [
      "['/Users/carotenuto/Master Radboud/MscProj/subjects_1-150/00031/130926153901.obj', '/Users/carotenuto/Master Radboud/MscProj/subjects_1-150/00009/130926122455.obj', '/Users/carotenuto/Master Radboud/MscProj/subjects_1-150/00036/130926160435.obj', '/Users/carotenuto/Master Radboud/MscProj/subjects_1-150/00038/130926165112.obj', '/Users/carotenuto/Master Radboud/MscProj/subjects_1-150/00007/130926120722.obj', '/Users/carotenuto/Master Radboud/MscProj/subjects_1-150/00053/130926194939.obj', '/Users/carotenuto/Master Radboud/MscProj/subjects_1-150/00098/130928141435.obj', '/Users/carotenuto/Master Radboud/MscProj/subjects_1-150/00054/130926195157.obj', '/Users/carotenuto/Master Radboud/MscProj/subjects_1-150/00062/130927143133.obj', '/Users/carotenuto/Master Radboud/MscProj/subjects_1-150/00096/130928135232.obj', '/Users/carotenuto/Master Radboud/MscProj/subjects_1-150/00091/130928132008.obj', '/Users/carotenuto/Master Radboud/MscProj/subjects_1-150/00065/130927144418.obj', '/Users/carotenuto/Master Radboud/MscProj/subjects_1-150/00039/130926172718.obj', '/Users/carotenuto/Master Radboud/MscProj/subjects_1-150/00001/130925161618.obj', '/Users/carotenuto/Master Radboud/MscProj/subjects_1-150/00037/130926162648.obj', '/Users/carotenuto/Master Radboud/MscProj/subjects_1-150/00064/130927144001.obj', '/Users/carotenuto/Master Radboud/MscProj/subjects_1-150/00090/130928131537.obj', '/Users/carotenuto/Master Radboud/MscProj/subjects_1-150/00097/130928141047.obj', '/Users/carotenuto/Master Radboud/MscProj/subjects_1-150/00063/130927143442.obj', '/Users/carotenuto/Master Radboud/MscProj/subjects_1-150/00055/130926195358.obj', '/Users/carotenuto/Master Radboud/MscProj/subjects_1-150/00052/130926193829.obj', '/Users/carotenuto/Master Radboud/MscProj/subjects_1-150/00070/130927170809.obj', '/Users/carotenuto/Master Radboud/MscProj/subjects_1-150/00084/130928123314.obj', '/Users/carotenuto/Master Radboud/MscProj/subjects_1-150/00083/130928122801.obj', '/Users/carotenuto/Master Radboud/MscProj/subjects_1-150/00077/130928104803.obj', '/Users/carotenuto/Master Radboud/MscProj/subjects_1-150/00046/130926184957.obj', '/Users/carotenuto/Master Radboud/MscProj/subjects_1-150/00015/130926130920.obj', '/Users/carotenuto/Master Radboud/MscProj/subjects_1-150/00047/130926185628.obj', '/Users/carotenuto/Master Radboud/MscProj/subjects_1-150/00040/130926181753.obj', '/Users/carotenuto/Master Radboud/MscProj/subjects_1-150/00049/130926193106.obj', '/Users/carotenuto/Master Radboud/MscProj/subjects_1-150/00076/130928104541.obj', '/Users/carotenuto/Master Radboud/MscProj/subjects_1-150/00082/130928120730.obj', '/Users/carotenuto/Master Radboud/MscProj/subjects_1-150/00085/130928123619.obj', '/Users/carotenuto/Master Radboud/MscProj/subjects_1-150/00071/130927171226.obj', '/Users/carotenuto/Master Radboud/MscProj/subjects_1-150/00014/130926130147.obj', '/Users/carotenuto/Master Radboud/MscProj/subjects_1-150/00013/130926124702.obj', '/Users/carotenuto/Master Radboud/MscProj/subjects_1-150/00057/130927123937.obj', '/Users/carotenuto/Master Radboud/MscProj/subjects_1-150/00092/130928133148.obj', '/Users/carotenuto/Master Radboud/MscProj/subjects_1-150/00066/130927152303.obj', '/Users/carotenuto/Master Radboud/MscProj/subjects_1-150/00059/130927134505.obj', '/Users/carotenuto/Master Radboud/MscProj/subjects_1-150/00061/130927142813.obj', '/Users/carotenuto/Master Radboud/MscProj/subjects_1-150/00095/130928134743.obj', '/Users/carotenuto/Master Radboud/MscProj/subjects_1-150/00035/130926155550.obj', '/Users/carotenuto/Master Radboud/MscProj/subjects_1-150/00004/130925163936.obj', '/Users/carotenuto/Master Radboud/MscProj/subjects_1-150/00003/130925162842.obj', '/Users/carotenuto/Master Radboud/MscProj/subjects_1-150/00094/130928134428.obj', '/Users/carotenuto/Master Radboud/MscProj/subjects_1-150/00060/130927134853.obj', '/Users/carotenuto/Master Radboud/MscProj/subjects_1-150/00067/130927153541.obj', '/Users/carotenuto/Master Radboud/MscProj/subjects_1-150/00093/130928133504.obj', '/Users/carotenuto/Master Radboud/MscProj/subjects_1-150/00058/130927124337.obj', '/Users/carotenuto/Master Radboud/MscProj/subjects_1-150/00051/130926193547.obj', '/Users/carotenuto/Master Radboud/MscProj/subjects_1-150/00056/130927121533.obj', '/Users/carotenuto/Master Radboud/MscProj/subjects_1-150/00069/130927170118.obj', '/Users/carotenuto/Master Radboud/MscProj/subjects_1-150/00002/130925160744.obj', '/Users/carotenuto/Master Radboud/MscProj/subjects_1-150/00005/130926112610.obj', '/Users/carotenuto/Master Radboud/MscProj/subjects_1-150/00100/130928142010.obj', '/Users/carotenuto/Master Radboud/MscProj/subjects_1-150/00016/130926131540.obj', '/Users/carotenuto/Master Radboud/MscProj/subjects_1-150/00011/130926124131.obj', '/Users/carotenuto/Master Radboud/MscProj/subjects_1-150/00027/130926152401.obj', '/Users/carotenuto/Master Radboud/MscProj/subjects_1-150/00018/130926133221.obj', '/Users/carotenuto/Master Radboud/MscProj/subjects_1-150/00020/130926140138.obj', '/Users/carotenuto/Master Radboud/MscProj/subjects_1-150/00080/130928111856.obj', '/Users/carotenuto/Master Radboud/MscProj/subjects_1-150/00074/130927175458.obj', '/Users/carotenuto/Master Radboud/MscProj/subjects_1-150/00073/130927175251.obj', '/Users/carotenuto/Master Radboud/MscProj/subjects_1-150/00045/130926184652.obj', '/Users/carotenuto/Master Radboud/MscProj/subjects_1-150/00042/130926183038.obj', '/Users/carotenuto/Master Radboud/MscProj/subjects_1-150/00026/130926152052.obj', '/Users/carotenuto/Master Radboud/MscProj/subjects_1-150/00019/130926133828.obj', '/Users/carotenuto/Master Radboud/MscProj/subjects_1-150/00010/130926123258.obj', '/Users/carotenuto/Master Radboud/MscProj/subjects_1-150/00028/130926152953.obj', '/Users/carotenuto/Master Radboud/MscProj/subjects_1-150/00088/130928125638.obj', '/Users/carotenuto/Master Radboud/MscProj/subjects_1-150/00043/130926183328.obj', '/Users/carotenuto/Master Radboud/MscProj/subjects_1-150/00044/130926183734.obj', '/Users/carotenuto/Master Radboud/MscProj/subjects_1-150/00086/130928123902.obj', '/Users/carotenuto/Master Radboud/MscProj/subjects_1-150/00072/130927174645.obj', '/Users/carotenuto/Master Radboud/MscProj/subjects_1-150/00081/130928115142.obj'] 76\n"
     ]
    }
   ],
   "source": [
    "obj_files = []\n",
    "for f in landmark_files:\n",
    "    # convert e.g. ldmks130926123258.txt to 130926123258.mtl\n",
    "    obj_path = os.path.basename(f)[5:-4] + '.obj'\n",
    "    obj_files.append(os.path.dirname(f) + '/' + obj_path)\n",
    "print(obj_files, len(obj_files))"
   ]
  },
  {
   "cell_type": "code",
   "execution_count": 3,
   "id": "92ac9a1f",
   "metadata": {},
   "outputs": [
    {
     "data": {
      "text/plain": "''"
     },
     "execution_count": 3,
     "metadata": {},
     "output_type": "execute_result"
    }
   ],
   "source": [
    "''# create new folders only for objects with existing landmarks\n",
    "#for i in range(len(landmark_files)):\n",
    "    "
   ]
  },
  {
   "cell_type": "code",
   "execution_count": 4,
   "id": "24b0335a",
   "metadata": {},
   "outputs": [
    {
     "name": "stdout",
     "output_type": "stream",
     "text": [
      "['00031', '00009', '00036', '00038', '00007', '00053', '00098', '00054', '00062', '00096', '00091', '00065', '00039', '00001', '00037', '00064', '00090', '00097', '00063', '00055', '00052', '00070', '00084', '00083', '00077', '00046', '00015', '00047', '00040', '00049', '00076', '00082', '00085', '00071', '00014', '00013', '00057', '00092', '00066', '00059', '00061', '00095', '00035', '00004', '00003', '00094', '00060', '00067', '00093', '00058', '00051', '00056', '00069', '00002', '00005', '00100', '00016', '00011', '00027', '00018', '00020', '00080', '00074', '00073', '00045', '00042', '00026', '00019', '00010', '00028', '00088', '00043', '00044', '00086', '00072', '00081']\n"
     ]
    }
   ],
   "source": [
    "import os\n",
    "\n",
    "\n",
    "# collect directory numbers\n",
    "direcs = []\n",
    "for subdir, dirs, files in os.walk(rootdir):\n",
    "    for dirx in dirs:\n",
    "        direcs.append(dirx)\n",
    "\n",
    "# detect directories with landmarks\n",
    "direcs_ldmks = []\n",
    "for direc in direcs:\n",
    "    for File in os.listdir(rootdir + direc):\n",
    "        if all([File.endswith(\".txt\") and File.startswith(\"ldmks\")]):\n",
    "            direcs_ldmks.append(direc)\n",
    "print(direcs_ldmks)\n",
    "\n",
    "#for direc in direcs_ldmks:\n",
    "#    for File in os.listdir(rootdir + direc):"
   ]
  },
  {
   "cell_type": "code",
   "execution_count": 5,
   "id": "67df9723",
   "metadata": {},
   "outputs": [
    {
     "name": "stdout",
     "output_type": "stream",
     "text": [
      "{'00031': ['/Users/carotenuto/Master Radboud/MscProj/subjects_1-150/00031/ldmks130926153901.txt', '/Users/carotenuto/Master Radboud/MscProj/subjects_1-150/00031/130926153901.obj'], '00009': ['/Users/carotenuto/Master Radboud/MscProj/subjects_1-150/00009/ldmks130926122455.txt', '/Users/carotenuto/Master Radboud/MscProj/subjects_1-150/00009/130926122455.obj'], '00036': ['/Users/carotenuto/Master Radboud/MscProj/subjects_1-150/00036/ldmks130926160435.txt', '/Users/carotenuto/Master Radboud/MscProj/subjects_1-150/00036/130926160435.obj'], '00038': ['/Users/carotenuto/Master Radboud/MscProj/subjects_1-150/00038/ldmks130926165112.txt', '/Users/carotenuto/Master Radboud/MscProj/subjects_1-150/00038/130926165112.obj'], '00007': ['/Users/carotenuto/Master Radboud/MscProj/subjects_1-150/00007/ldmks130926120722.txt', '/Users/carotenuto/Master Radboud/MscProj/subjects_1-150/00007/130926120722.obj'], '00053': ['/Users/carotenuto/Master Radboud/MscProj/subjects_1-150/00053/ldmks130926194939.txt', '/Users/carotenuto/Master Radboud/MscProj/subjects_1-150/00053/130926194939.obj'], '00098': ['/Users/carotenuto/Master Radboud/MscProj/subjects_1-150/00098/ldmks130928141435.txt', '/Users/carotenuto/Master Radboud/MscProj/subjects_1-150/00098/130928141435.obj'], '00054': ['/Users/carotenuto/Master Radboud/MscProj/subjects_1-150/00054/ldmks130926195157.txt', '/Users/carotenuto/Master Radboud/MscProj/subjects_1-150/00054/130926195157.obj'], '00062': ['/Users/carotenuto/Master Radboud/MscProj/subjects_1-150/00062/ldmks130927143133.txt', '/Users/carotenuto/Master Radboud/MscProj/subjects_1-150/00062/130927143133.obj'], '00096': ['/Users/carotenuto/Master Radboud/MscProj/subjects_1-150/00096/ldmks130928135232.txt', '/Users/carotenuto/Master Radboud/MscProj/subjects_1-150/00096/130928135232.obj'], '00091': ['/Users/carotenuto/Master Radboud/MscProj/subjects_1-150/00091/ldmks130928132008.txt', '/Users/carotenuto/Master Radboud/MscProj/subjects_1-150/00091/130928132008.obj'], '00065': ['/Users/carotenuto/Master Radboud/MscProj/subjects_1-150/00065/ldmks130927144418.txt', '/Users/carotenuto/Master Radboud/MscProj/subjects_1-150/00065/130927144418.obj'], '00039': ['/Users/carotenuto/Master Radboud/MscProj/subjects_1-150/00039/ldmks130926172718.txt', '/Users/carotenuto/Master Radboud/MscProj/subjects_1-150/00039/130926172718.obj'], '00001': ['/Users/carotenuto/Master Radboud/MscProj/subjects_1-150/00001/ldmks130925161618.txt', '/Users/carotenuto/Master Radboud/MscProj/subjects_1-150/00001/130925161618.obj'], '00037': ['/Users/carotenuto/Master Radboud/MscProj/subjects_1-150/00037/ldmks130926162648.txt', '/Users/carotenuto/Master Radboud/MscProj/subjects_1-150/00037/130926162648.obj'], '00064': ['/Users/carotenuto/Master Radboud/MscProj/subjects_1-150/00064/ldmks130927144001.txt', '/Users/carotenuto/Master Radboud/MscProj/subjects_1-150/00064/130927144001.obj'], '00090': ['/Users/carotenuto/Master Radboud/MscProj/subjects_1-150/00090/ldmks130928131537.txt', '/Users/carotenuto/Master Radboud/MscProj/subjects_1-150/00090/130928131537.obj'], '00097': ['/Users/carotenuto/Master Radboud/MscProj/subjects_1-150/00097/ldmks130928141047.txt', '/Users/carotenuto/Master Radboud/MscProj/subjects_1-150/00097/130928141047.obj'], '00063': ['/Users/carotenuto/Master Radboud/MscProj/subjects_1-150/00063/ldmks130927143442.txt', '/Users/carotenuto/Master Radboud/MscProj/subjects_1-150/00063/130927143442.obj'], '00055': ['/Users/carotenuto/Master Radboud/MscProj/subjects_1-150/00055/ldmks130926195358.txt', '/Users/carotenuto/Master Radboud/MscProj/subjects_1-150/00055/130926195358.obj'], '00052': ['/Users/carotenuto/Master Radboud/MscProj/subjects_1-150/00052/ldmks130926193829.txt', '/Users/carotenuto/Master Radboud/MscProj/subjects_1-150/00052/130926193829.obj'], '00070': ['/Users/carotenuto/Master Radboud/MscProj/subjects_1-150/00070/ldmks130927170809.txt', '/Users/carotenuto/Master Radboud/MscProj/subjects_1-150/00070/130927170809.obj'], '00084': ['/Users/carotenuto/Master Radboud/MscProj/subjects_1-150/00084/ldmks130928123314.txt', '/Users/carotenuto/Master Radboud/MscProj/subjects_1-150/00084/130928123314.obj'], '00083': ['/Users/carotenuto/Master Radboud/MscProj/subjects_1-150/00083/ldmks130928122801.txt', '/Users/carotenuto/Master Radboud/MscProj/subjects_1-150/00083/130928122801.obj'], '00077': ['/Users/carotenuto/Master Radboud/MscProj/subjects_1-150/00077/ldmks130928104803.txt', '/Users/carotenuto/Master Radboud/MscProj/subjects_1-150/00077/130928104803.obj'], '00046': ['/Users/carotenuto/Master Radboud/MscProj/subjects_1-150/00046/ldmks130926184957.txt', '/Users/carotenuto/Master Radboud/MscProj/subjects_1-150/00046/130926184957.obj'], '00015': ['/Users/carotenuto/Master Radboud/MscProj/subjects_1-150/00015/ldmks130926130920.txt', '/Users/carotenuto/Master Radboud/MscProj/subjects_1-150/00015/130926130920.obj'], '00047': ['/Users/carotenuto/Master Radboud/MscProj/subjects_1-150/00047/ldmks130926185628.txt', '/Users/carotenuto/Master Radboud/MscProj/subjects_1-150/00047/130926185628.obj'], '00040': ['/Users/carotenuto/Master Radboud/MscProj/subjects_1-150/00040/ldmks130926181753.txt', '/Users/carotenuto/Master Radboud/MscProj/subjects_1-150/00040/130926181753.obj'], '00049': ['/Users/carotenuto/Master Radboud/MscProj/subjects_1-150/00049/ldmks130926193106.txt', '/Users/carotenuto/Master Radboud/MscProj/subjects_1-150/00049/130926193106.obj'], '00076': ['/Users/carotenuto/Master Radboud/MscProj/subjects_1-150/00076/ldmks130928104541.txt', '/Users/carotenuto/Master Radboud/MscProj/subjects_1-150/00076/130928104541.obj'], '00082': ['/Users/carotenuto/Master Radboud/MscProj/subjects_1-150/00082/ldmks130928120730.txt', '/Users/carotenuto/Master Radboud/MscProj/subjects_1-150/00082/130928120730.obj'], '00085': ['/Users/carotenuto/Master Radboud/MscProj/subjects_1-150/00085/ldmks130928123619.txt', '/Users/carotenuto/Master Radboud/MscProj/subjects_1-150/00085/130928123619.obj'], '00071': ['/Users/carotenuto/Master Radboud/MscProj/subjects_1-150/00071/ldmks130927171226.txt', '/Users/carotenuto/Master Radboud/MscProj/subjects_1-150/00071/130927171226.obj'], '00014': ['/Users/carotenuto/Master Radboud/MscProj/subjects_1-150/00014/ldmks130926130147.txt', '/Users/carotenuto/Master Radboud/MscProj/subjects_1-150/00014/130926130147.obj'], '00013': ['/Users/carotenuto/Master Radboud/MscProj/subjects_1-150/00013/ldmks130926124702.txt', '/Users/carotenuto/Master Radboud/MscProj/subjects_1-150/00013/130926124702.obj'], '00057': ['/Users/carotenuto/Master Radboud/MscProj/subjects_1-150/00057/ldmks130927123937.txt', '/Users/carotenuto/Master Radboud/MscProj/subjects_1-150/00057/130927123937.obj'], '00092': ['/Users/carotenuto/Master Radboud/MscProj/subjects_1-150/00092/ldmks130928133148.txt', '/Users/carotenuto/Master Radboud/MscProj/subjects_1-150/00092/130928133148.obj'], '00066': ['/Users/carotenuto/Master Radboud/MscProj/subjects_1-150/00066/ldmks130927152303.txt', '/Users/carotenuto/Master Radboud/MscProj/subjects_1-150/00066/130927152303.obj'], '00059': ['/Users/carotenuto/Master Radboud/MscProj/subjects_1-150/00059/ldmks130927134505.txt', '/Users/carotenuto/Master Radboud/MscProj/subjects_1-150/00059/130927134505.obj'], '00061': ['/Users/carotenuto/Master Radboud/MscProj/subjects_1-150/00061/ldmks130927142813.txt', '/Users/carotenuto/Master Radboud/MscProj/subjects_1-150/00061/130927142813.obj'], '00095': ['/Users/carotenuto/Master Radboud/MscProj/subjects_1-150/00095/ldmks130928134743.txt', '/Users/carotenuto/Master Radboud/MscProj/subjects_1-150/00095/130928134743.obj'], '00035': ['/Users/carotenuto/Master Radboud/MscProj/subjects_1-150/00035/ldmks130926155550.txt', '/Users/carotenuto/Master Radboud/MscProj/subjects_1-150/00035/130926155550.obj'], '00004': ['/Users/carotenuto/Master Radboud/MscProj/subjects_1-150/00004/ldmks130925163936.txt', '/Users/carotenuto/Master Radboud/MscProj/subjects_1-150/00004/130925163936.obj'], '00003': ['/Users/carotenuto/Master Radboud/MscProj/subjects_1-150/00003/ldmks130925162842.txt', '/Users/carotenuto/Master Radboud/MscProj/subjects_1-150/00003/130925162842.obj'], '00094': ['/Users/carotenuto/Master Radboud/MscProj/subjects_1-150/00094/ldmks130928134428.txt', '/Users/carotenuto/Master Radboud/MscProj/subjects_1-150/00094/130928134428.obj'], '00060': ['/Users/carotenuto/Master Radboud/MscProj/subjects_1-150/00060/ldmks130927134853.txt', '/Users/carotenuto/Master Radboud/MscProj/subjects_1-150/00060/130927134853.obj'], '00067': ['/Users/carotenuto/Master Radboud/MscProj/subjects_1-150/00067/ldmks130927153541.txt', '/Users/carotenuto/Master Radboud/MscProj/subjects_1-150/00067/130927153541.obj'], '00093': ['/Users/carotenuto/Master Radboud/MscProj/subjects_1-150/00093/ldmks130928133504.txt', '/Users/carotenuto/Master Radboud/MscProj/subjects_1-150/00093/130928133504.obj'], '00058': ['/Users/carotenuto/Master Radboud/MscProj/subjects_1-150/00058/ldmks130927124337.txt', '/Users/carotenuto/Master Radboud/MscProj/subjects_1-150/00058/130927124337.obj'], '00051': ['/Users/carotenuto/Master Radboud/MscProj/subjects_1-150/00051/ldmks130926193547.txt', '/Users/carotenuto/Master Radboud/MscProj/subjects_1-150/00051/130926193547.obj'], '00056': ['/Users/carotenuto/Master Radboud/MscProj/subjects_1-150/00056/ldmks130927121533.txt', '/Users/carotenuto/Master Radboud/MscProj/subjects_1-150/00056/130927121533.obj'], '00069': ['/Users/carotenuto/Master Radboud/MscProj/subjects_1-150/00069/ldmks130927170118.txt', '/Users/carotenuto/Master Radboud/MscProj/subjects_1-150/00069/130927170118.obj'], '00002': ['/Users/carotenuto/Master Radboud/MscProj/subjects_1-150/00002/ldmks130925160744.txt', '/Users/carotenuto/Master Radboud/MscProj/subjects_1-150/00002/130925160744.obj'], '00005': ['/Users/carotenuto/Master Radboud/MscProj/subjects_1-150/00005/ldmks130926112610.txt', '/Users/carotenuto/Master Radboud/MscProj/subjects_1-150/00005/130926112610.obj'], '00100': ['/Users/carotenuto/Master Radboud/MscProj/subjects_1-150/00100/ldmks130928142010.txt', '/Users/carotenuto/Master Radboud/MscProj/subjects_1-150/00100/130928142010.obj'], '00016': ['/Users/carotenuto/Master Radboud/MscProj/subjects_1-150/00016/ldmks130926131540.txt', '/Users/carotenuto/Master Radboud/MscProj/subjects_1-150/00016/130926131540.obj'], '00011': ['/Users/carotenuto/Master Radboud/MscProj/subjects_1-150/00011/ldmks130926124131.txt', '/Users/carotenuto/Master Radboud/MscProj/subjects_1-150/00011/130926124131.obj'], '00027': ['/Users/carotenuto/Master Radboud/MscProj/subjects_1-150/00027/ldmks130926152401.txt', '/Users/carotenuto/Master Radboud/MscProj/subjects_1-150/00027/130926152401.obj'], '00018': ['/Users/carotenuto/Master Radboud/MscProj/subjects_1-150/00018/ldmks130926133221.txt', '/Users/carotenuto/Master Radboud/MscProj/subjects_1-150/00018/130926133221.obj'], '00020': ['/Users/carotenuto/Master Radboud/MscProj/subjects_1-150/00020/ldmks130926140138.txt', '/Users/carotenuto/Master Radboud/MscProj/subjects_1-150/00020/130926140138.obj'], '00080': ['/Users/carotenuto/Master Radboud/MscProj/subjects_1-150/00080/ldmks130928111856.txt', '/Users/carotenuto/Master Radboud/MscProj/subjects_1-150/00080/130928111856.obj'], '00074': ['/Users/carotenuto/Master Radboud/MscProj/subjects_1-150/00074/ldmks130927175458.txt', '/Users/carotenuto/Master Radboud/MscProj/subjects_1-150/00074/130927175458.obj'], '00073': ['/Users/carotenuto/Master Radboud/MscProj/subjects_1-150/00073/ldmks130927175251.txt', '/Users/carotenuto/Master Radboud/MscProj/subjects_1-150/00073/130927175251.obj'], '00045': ['/Users/carotenuto/Master Radboud/MscProj/subjects_1-150/00045/ldmks130926184652.txt', '/Users/carotenuto/Master Radboud/MscProj/subjects_1-150/00045/130926184652.obj'], '00042': ['/Users/carotenuto/Master Radboud/MscProj/subjects_1-150/00042/ldmks130926183038.txt', '/Users/carotenuto/Master Radboud/MscProj/subjects_1-150/00042/130926183038.obj'], '00026': ['/Users/carotenuto/Master Radboud/MscProj/subjects_1-150/00026/ldmks130926152052.txt', '/Users/carotenuto/Master Radboud/MscProj/subjects_1-150/00026/130926152052.obj'], '00019': ['/Users/carotenuto/Master Radboud/MscProj/subjects_1-150/00019/ldmks130926133828.txt', '/Users/carotenuto/Master Radboud/MscProj/subjects_1-150/00019/130926133828.obj'], '00010': ['/Users/carotenuto/Master Radboud/MscProj/subjects_1-150/00010/ldmks130926123258.txt', '/Users/carotenuto/Master Radboud/MscProj/subjects_1-150/00010/130926123258.obj'], '00028': ['/Users/carotenuto/Master Radboud/MscProj/subjects_1-150/00028/ldmks130926152953.txt', '/Users/carotenuto/Master Radboud/MscProj/subjects_1-150/00028/130926152953.obj'], '00088': ['/Users/carotenuto/Master Radboud/MscProj/subjects_1-150/00088/ldmks130928125638.txt', '/Users/carotenuto/Master Radboud/MscProj/subjects_1-150/00088/130928125638.obj'], '00043': ['/Users/carotenuto/Master Radboud/MscProj/subjects_1-150/00043/ldmks130926183328.txt', '/Users/carotenuto/Master Radboud/MscProj/subjects_1-150/00043/130926183328.obj'], '00044': ['/Users/carotenuto/Master Radboud/MscProj/subjects_1-150/00044/ldmks130926183734.txt', '/Users/carotenuto/Master Radboud/MscProj/subjects_1-150/00044/130926183734.obj'], '00086': ['/Users/carotenuto/Master Radboud/MscProj/subjects_1-150/00086/ldmks130928123902.txt', '/Users/carotenuto/Master Radboud/MscProj/subjects_1-150/00086/130928123902.obj'], '00072': ['/Users/carotenuto/Master Radboud/MscProj/subjects_1-150/00072/ldmks130927174645.txt', '/Users/carotenuto/Master Radboud/MscProj/subjects_1-150/00072/130927174645.obj'], '00081': ['/Users/carotenuto/Master Radboud/MscProj/subjects_1-150/00081/ldmks130928115142.txt', '/Users/carotenuto/Master Radboud/MscProj/subjects_1-150/00081/130928115142.obj']}\n"
     ]
    }
   ],
   "source": [
    "structure = dict((direcs_ldmks[i], [landmark_files[i], obj_files[i]]) for i in range(len(direcs_ldmks)))\n",
    "print(structure)"
   ]
  },
  {
   "cell_type": "code",
   "execution_count": 6,
   "id": "b04ff6c8",
   "metadata": {
    "pycharm": {
     "name": "#%%\n"
    }
   },
   "outputs": [],
   "source": [
    "for direc in structure:\n",
    "    if not os.path.exists(new_dir_path + direc):\n",
    "        os.makedirs(new_dir_path + direc + \"/train\")\n",
    "\n",
    "    shutil.copy(structure[direc][0], new_dir_path + direc + '/train/' + os.path.basename(structure[direc][0]))\n",
    "    shutil.copy(structure[direc][1], new_dir_path + direc + '/train/' + os.path.basename(structure[direc][1]))"
   ]
  },
  {
   "cell_type": "code",
   "execution_count": null,
   "outputs": [],
   "source": [],
   "metadata": {
    "collapsed": false,
    "pycharm": {
     "name": "#%%\n"
    }
   }
  }
 ],
 "metadata": {
  "kernelspec": {
   "display_name": "ds39",
   "language": "python",
   "name": "ds39"
  },
  "language_info": {
   "codemirror_mode": {
    "name": "ipython",
    "version": 3
   },
   "file_extension": ".py",
   "mimetype": "text/x-python",
   "name": "python",
   "nbconvert_exporter": "python",
   "pygments_lexer": "ipython3",
   "version": "3.9.6"
  }
 },
 "nbformat": 4,
 "nbformat_minor": 5
}